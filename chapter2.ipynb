{
  "nbformat": 4,
  "nbformat_minor": 0,
  "metadata": {
    "colab": {
      "name": "chapter2.ipynb",
      "provenance": [],
      "authorship_tag": "ABX9TyN21gDmD1J5LwgJCq50/tXk",
      "include_colab_link": true
    },
    "kernelspec": {
      "name": "python3",
      "display_name": "Python 3"
    },
    "language_info": {
      "name": "python"
    }
  },
  "cells": [
    {
      "cell_type": "markdown",
      "metadata": {
        "id": "view-in-github",
        "colab_type": "text"
      },
      "source": [
        "<a href=\"https://colab.research.google.com/github/kajalDhun114/EDA-Project-onAirbnb-project/blob/main/chapter2.ipynb\" target=\"_parent\"><img src=\"https://colab.research.google.com/assets/colab-badge.svg\" alt=\"Open In Colab\"/></a>"
      ]
    },
    {
      "cell_type": "markdown",
      "metadata": {
        "id": "-jqir5P0lh-S"
      },
      "source": [
        "#OPERATOR AND EXPRESSION "
      ]
    },
    {
      "cell_type": "code",
      "metadata": {
        "colab": {
          "base_uri": "https://localhost:8080/"
        },
        "id": "uKig2X92lnH-",
        "outputId": "72ecd2ea-3ec2-4579-d0cc-7927306e3190"
      },
      "source": [
        "x=27+8*2-6\n",
        "print(x)"
      ],
      "execution_count": null,
      "outputs": [
        {
          "output_type": "stream",
          "name": "stdout",
          "text": [
            "37\n"
          ]
        }
      ]
    },
    {
      "cell_type": "code",
      "metadata": {
        "colab": {
          "base_uri": "https://localhost:8080/"
        },
        "id": "bK1HZoKxl53B",
        "outputId": "f7a8fd64-1c64-4d40-d0fb-bdda7005e836"
      },
      "source": [
        "x=2+7|8&2\n",
        "print(x)"
      ],
      "execution_count": null,
      "outputs": [
        {
          "output_type": "stream",
          "name": "stdout",
          "text": [
            "9\n"
          ]
        }
      ]
    },
    {
      "cell_type": "code",
      "metadata": {
        "colab": {
          "base_uri": "https://localhost:8080/"
        },
        "id": "RAmH6YoSmH49",
        "outputId": "84d6954b-8f70-44fb-fbfa-d980d852aade"
      },
      "source": [
        "x=3-(5+4)*2\n",
        "print(x)"
      ],
      "execution_count": null,
      "outputs": [
        {
          "output_type": "stream",
          "name": "stdout",
          "text": [
            "-15\n"
          ]
        }
      ]
    },
    {
      "cell_type": "code",
      "metadata": {
        "colab": {
          "base_uri": "https://localhost:8080/"
        },
        "id": "MxHeZ-fXmWD7",
        "outputId": "da94cd85-0ddc-4587-8b23-ac0e46a3a650"
      },
      "source": [
        "x=8^2*4+3\n",
        "print(x)"
      ],
      "execution_count": null,
      "outputs": [
        {
          "output_type": "stream",
          "name": "stdout",
          "text": [
            "3\n"
          ]
        }
      ]
    },
    {
      "cell_type": "code",
      "metadata": {
        "colab": {
          "base_uri": "https://localhost:8080/"
        },
        "id": "kGZ-KwobmhoP",
        "outputId": "30dc5f19-225b-489f-d053-8cca1a97fa16"
      },
      "source": [
        "x=9*6-(4|6)+5\n",
        "print(x)"
      ],
      "execution_count": null,
      "outputs": [
        {
          "output_type": "stream",
          "name": "stdout",
          "text": [
            "53\n"
          ]
        }
      ]
    },
    {
      "cell_type": "code",
      "metadata": {
        "colab": {
          "base_uri": "https://localhost:8080/"
        },
        "id": "a6pMtBmRnEDn",
        "outputId": "ab521342-21fc-4a77-d8c8-568140d96e47"
      },
      "source": [
        "x=(13+4)>(3+4)\n",
        "print(x)"
      ],
      "execution_count": null,
      "outputs": [
        {
          "output_type": "stream",
          "name": "stdout",
          "text": [
            "True\n"
          ]
        }
      ]
    },
    {
      "cell_type": "code",
      "metadata": {
        "colab": {
          "base_uri": "https://localhost:8080/"
        },
        "id": "1xXOIvzbnbe3",
        "outputId": "980918a2-4257-40b8-efc7-5e2a5d63a912"
      },
      "source": [
        "x=(25//2+3.5)<=(7.5+20)\n",
        "print(x)"
      ],
      "execution_count": null,
      "outputs": [
        {
          "output_type": "stream",
          "name": "stdout",
          "text": [
            "True\n"
          ]
        }
      ]
    },
    {
      "cell_type": "code",
      "metadata": {
        "colab": {
          "base_uri": "https://localhost:8080/"
        },
        "id": "E-3ywuMxn1c5",
        "outputId": "8ceccaca-05c0-4c59-8154-a3093352aa7e"
      },
      "source": [
        "x=(40 and 50)or(0 or 30)\n",
        "print(x)"
      ],
      "execution_count": null,
      "outputs": [
        {
          "output_type": "stream",
          "name": "stdout",
          "text": [
            "50\n"
          ]
        }
      ]
    },
    {
      "cell_type": "code",
      "metadata": {
        "colab": {
          "base_uri": "https://localhost:8080/"
        },
        "id": "AZR5eXOBoQJC",
        "outputId": "981ac34a-13ff-4d14-ea55-b836ad378a95"
      },
      "source": [
        "x=(40 and 50)or(0 or 20)\n",
        "print(x)"
      ],
      "execution_count": null,
      "outputs": [
        {
          "output_type": "stream",
          "name": "stdout",
          "text": [
            "50\n"
          ]
        }
      ]
    },
    {
      "cell_type": "code",
      "metadata": {
        "colab": {
          "base_uri": "https://localhost:8080/"
        },
        "id": "MM9b_xZiodsv",
        "outputId": "48fec64a-9387-416d-b5c4-7b5ab96d3e16"
      },
      "source": [
        "x=(not (200|120)and (30&20))\n",
        "print(x)"
      ],
      "execution_count": null,
      "outputs": [
        {
          "output_type": "stream",
          "name": "stdout",
          "text": [
            "False\n"
          ]
        }
      ]
    },
    {
      "cell_type": "code",
      "metadata": {
        "colab": {
          "base_uri": "https://localhost:8080/"
        },
        "id": "vx9vgkeaovw-",
        "outputId": "d9992842-1638-4187-d45b-eee5c4fda2f3"
      },
      "source": [
        "x=2+3*5 & 7**2\n",
        "print(x)"
      ],
      "execution_count": null,
      "outputs": [
        {
          "output_type": "stream",
          "name": "stdout",
          "text": [
            "17\n"
          ]
        }
      ]
    },
    {
      "cell_type": "code",
      "metadata": {
        "colab": {
          "base_uri": "https://localhost:8080/"
        },
        "id": "LB_PINyjpGXP",
        "outputId": "ff03033c-ea48-4a75-bed4-2c21d59e722a"
      },
      "source": [
        "x=15|56*4+3-20\n",
        "print(x)"
      ],
      "execution_count": null,
      "outputs": [
        {
          "output_type": "stream",
          "name": "stdout",
          "text": [
            "207\n"
          ]
        }
      ]
    },
    {
      "cell_type": "code",
      "metadata": {
        "colab": {
          "base_uri": "https://localhost:8080/"
        },
        "id": "Ic9daNSXpbTr",
        "outputId": "477df2a3-99a7-4c60-fe80-7c21d044b351"
      },
      "source": [
        "x=20>>2>>3\n",
        "print(x)"
      ],
      "execution_count": null,
      "outputs": [
        {
          "output_type": "stream",
          "name": "stdout",
          "text": [
            "0\n"
          ]
        }
      ]
    },
    {
      "cell_type": "code",
      "metadata": {
        "colab": {
          "base_uri": "https://localhost:8080/"
        },
        "id": "5jPlaVS0p2cJ",
        "outputId": "a8a6cf70-64f9-49cb-ce76-1a7cf3af89d3"
      },
      "source": [
        "x=10<<3<<4\n",
        "print(x)"
      ],
      "execution_count": null,
      "outputs": [
        {
          "output_type": "stream",
          "name": "stdout",
          "text": [
            "1280\n"
          ]
        }
      ]
    },
    {
      "cell_type": "code",
      "metadata": {
        "colab": {
          "base_uri": "https://localhost:8080/"
        },
        "id": "Tfc8-VAJp_ak",
        "outputId": "c6963c70-01cc-4f14-9771-4f74adf27970"
      },
      "source": [
        "x=(12+20-10)and(34&3)\n",
        "print(x)"
      ],
      "execution_count": null,
      "outputs": [
        {
          "output_type": "stream",
          "name": "stdout",
          "text": [
            "2\n"
          ]
        }
      ]
    },
    {
      "cell_type": "code",
      "metadata": {
        "colab": {
          "base_uri": "https://localhost:8080/"
        },
        "id": "1hirOCYkqUV7",
        "outputId": "966001c0-0489-477c-e59f-625217552001"
      },
      "source": [
        "x=(12+20-10)and(34&3)\n",
        "print(x)"
      ],
      "execution_count": null,
      "outputs": [
        {
          "output_type": "stream",
          "name": "stdout",
          "text": [
            "2\n"
          ]
        }
      ]
    },
    {
      "cell_type": "code",
      "metadata": {
        "colab": {
          "base_uri": "https://localhost:8080/"
        },
        "id": "xuC2Vlktrikz",
        "outputId": "6533153c-91c6-4dc1-c6b7-fc1105e31d10"
      },
      "source": [
        "x=50^2>>8+20<<3\n",
        "print(x)"
      ],
      "execution_count": null,
      "outputs": [
        {
          "output_type": "stream",
          "name": "stdout",
          "text": [
            "50\n"
          ]
        }
      ]
    },
    {
      "cell_type": "code",
      "metadata": {
        "colab": {
          "base_uri": "https://localhost:8080/"
        },
        "id": "rgIN7OD1rvZ4",
        "outputId": "a77f0d88-94fd-40b8-f2bc-5ea5b110be64"
      },
      "source": [
        "x=(40&5+10)<=(30+60|5)\n",
        "print(x)"
      ],
      "execution_count": null,
      "outputs": [
        {
          "output_type": "stream",
          "name": "stdout",
          "text": [
            "True\n"
          ]
        }
      ]
    },
    {
      "cell_type": "code",
      "metadata": {
        "colab": {
          "base_uri": "https://localhost:8080/"
        },
        "id": "Yk-EURC3sLkc",
        "outputId": "7f650cf6-dc98-423b-b6df-f5fa2fee6c82"
      },
      "source": [
        "x=(60^5)==(90^70)\n",
        "print(x)"
      ],
      "execution_count": null,
      "outputs": [
        {
          "output_type": "stream",
          "name": "stdout",
          "text": [
            "False\n"
          ]
        }
      ]
    },
    {
      "cell_type": "code",
      "metadata": {
        "colab": {
          "base_uri": "https://localhost:8080/"
        },
        "id": "djJngdelsfpW",
        "outputId": "11bd4ea2-65e1-4c56-b4ca-778e60e9482d"
      },
      "source": [
        "x=100>>5+90<<80\n",
        "print(x)"
      ],
      "execution_count": null,
      "outputs": [
        {
          "output_type": "stream",
          "name": "stdout",
          "text": [
            "0\n"
          ]
        }
      ]
    },
    {
      "cell_type": "code",
      "metadata": {
        "id": "7LQo9Sg8su8Y"
      },
      "source": [
        "x=9*10>>1-8\n",
        "print(x)"
      ],
      "execution_count": null,
      "outputs": []
    },
    {
      "cell_type": "code",
      "metadata": {
        "id": "RzzC-BOtts27"
      },
      "source": [
        "x=1 in [1,2,3,4]"
      ],
      "execution_count": null,
      "outputs": []
    },
    {
      "cell_type": "code",
      "metadata": {
        "id": "bxWawN8xt_3n"
      },
      "source": [
        "x=1 not in [1,2,3,4]"
      ],
      "execution_count": null,
      "outputs": []
    },
    {
      "cell_type": "code",
      "metadata": {
        "colab": {
          "base_uri": "https://localhost:8080/"
        },
        "id": "YeRc25tFuHEG",
        "outputId": "e19a67f2-7756-4782-d397-66662a7efa96"
      },
      "source": [
        "x=True is True \n",
        "print(x)"
      ],
      "execution_count": null,
      "outputs": [
        {
          "output_type": "stream",
          "name": "stdout",
          "text": [
            "True\n"
          ]
        }
      ]
    },
    {
      "cell_type": "code",
      "metadata": {
        "colab": {
          "base_uri": "https://localhost:8080/"
        },
        "id": "b30hcFttuflz",
        "outputId": "18c1ff52-9327-42b7-fa84-03dcd27e3fba"
      },
      "source": [
        "x=(90 and 60|34)!=(80 or 50 & 30)\n",
        "print(x)"
      ],
      "execution_count": null,
      "outputs": [
        {
          "output_type": "stream",
          "name": "stdout",
          "text": [
            "True\n"
          ]
        }
      ]
    },
    {
      "cell_type": "code",
      "metadata": {
        "colab": {
          "base_uri": "https://localhost:8080/"
        },
        "id": "YkNUkTFWu21-",
        "outputId": "763b4476-b353-4207-ba58-4fa024a28fc5"
      },
      "source": [
        "x=90-80+70-60+50*2\n",
        "print(x)"
      ],
      "execution_count": null,
      "outputs": [
        {
          "output_type": "stream",
          "name": "stdout",
          "text": [
            "120\n"
          ]
        }
      ]
    }
  ]
}