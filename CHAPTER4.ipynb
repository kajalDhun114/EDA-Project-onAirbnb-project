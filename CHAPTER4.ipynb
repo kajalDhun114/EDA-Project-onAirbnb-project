{
  "nbformat": 4,
  "nbformat_minor": 0,
  "metadata": {
    "colab": {
      "name": "CHAPTER4.ipynb",
      "provenance": [],
      "authorship_tag": "ABX9TyMQBZbPSdYQYf38SuL5V98w",
      "include_colab_link": true
    },
    "kernelspec": {
      "name": "python3",
      "display_name": "Python 3"
    },
    "language_info": {
      "name": "python"
    }
  },
  "cells": [
    {
      "cell_type": "markdown",
      "metadata": {
        "id": "view-in-github",
        "colab_type": "text"
      },
      "source": [
        "<a href=\"https://colab.research.google.com/github/kajalDhun114/EDA-Project-onAirbnb-project/blob/main/CHAPTER4.ipynb\" target=\"_parent\"><img src=\"https://colab.research.google.com/assets/colab-badge.svg\" alt=\"Open In Colab\"/></a>"
      ]
    },
    {
      "cell_type": "markdown",
      "metadata": {
        "id": "QI29rbt7XIoF"
      },
      "source": [
        "##LOOPS"
      ]
    },
    {
      "cell_type": "code",
      "metadata": {
        "colab": {
          "base_uri": "https://localhost:8080/"
        },
        "id": "naiU3rAKXLhY",
        "outputId": "d3dcf3e2-171b-46c1-9c77-b2bcaaa19cad"
      },
      "source": [
        "for i in range(4):\n",
        "  print(i)"
      ],
      "execution_count": null,
      "outputs": [
        {
          "output_type": "stream",
          "name": "stdout",
          "text": [
            "0\n",
            "1\n",
            "2\n",
            "3\n"
          ]
        }
      ]
    },
    {
      "cell_type": "code",
      "metadata": {
        "colab": {
          "base_uri": "https://localhost:8080/"
        },
        "id": "Do2tXjDbXkdI",
        "outputId": "7a3be5d3-9508-4d63-e60c-53c03c086b1c"
      },
      "source": [
        "for i in range(4,7):\n",
        "  print(i)"
      ],
      "execution_count": null,
      "outputs": [
        {
          "output_type": "stream",
          "name": "stdout",
          "text": [
            "4\n",
            "5\n",
            "6\n"
          ]
        }
      ]
    },
    {
      "cell_type": "code",
      "metadata": {
        "colab": {
          "base_uri": "https://localhost:8080/"
        },
        "id": "P4j4psBhXs_e",
        "outputId": "d0ec47f9-2432-4655-a3ae-3034d2168cfb"
      },
      "source": [
        "for i in range(14,28,4):\n",
        "  print(i)"
      ],
      "execution_count": null,
      "outputs": [
        {
          "output_type": "stream",
          "name": "stdout",
          "text": [
            "14\n",
            "18\n",
            "22\n",
            "26\n"
          ]
        }
      ]
    },
    {
      "cell_type": "code",
      "metadata": {
        "colab": {
          "base_uri": "https://localhost:8080/"
        },
        "id": "YzEbCsusX0km",
        "outputId": "682dade7-35a6-4aeb-f00b-5bef50fc9680"
      },
      "source": [
        "for i in range(24,18,-3):\n",
        "  print(i)"
      ],
      "execution_count": null,
      "outputs": [
        {
          "output_type": "stream",
          "name": "stdout",
          "text": [
            "24\n",
            "21\n"
          ]
        }
      ]
    },
    {
      "cell_type": "code",
      "metadata": {
        "colab": {
          "base_uri": "https://localhost:8080/"
        },
        "id": "85zxfcCPYJZN",
        "outputId": "c0cd0fc6-0855-4010-827c-18b9cf45e7b6"
      },
      "source": [
        "sum=0 \n",
        "for i in range(20,10,-2):\n",
        "  sum+=i \n",
        "  print(sum)"
      ],
      "execution_count": null,
      "outputs": [
        {
          "output_type": "stream",
          "name": "stdout",
          "text": [
            "20\n",
            "38\n",
            "54\n",
            "68\n",
            "80\n"
          ]
        }
      ]
    },
    {
      "cell_type": "code",
      "metadata": {
        "colab": {
          "base_uri": "https://localhost:8080/"
        },
        "id": "PA9DJ_CzYgol",
        "outputId": "d3957d73-6d0d-4054-bafe-de4a50189478"
      },
      "source": [
        "sum=0 \n",
        "for i in range(10,20,2):\n",
        "  sum+=i \n",
        "  print(sum)"
      ],
      "execution_count": null,
      "outputs": [
        {
          "output_type": "stream",
          "name": "stdout",
          "text": [
            "10\n",
            "22\n",
            "36\n",
            "52\n",
            "70\n"
          ]
        }
      ]
    },
    {
      "cell_type": "code",
      "metadata": {
        "id": "gW6kWF3IYoAp"
      },
      "source": [
        "sum=0 \n",
        "for i in range(10,20,-2):\n",
        "  sum+=i \n",
        "  print(sum)"
      ],
      "execution_count": null,
      "outputs": []
    },
    {
      "cell_type": "code",
      "metadata": {
        "colab": {
          "base_uri": "https://localhost:8080/"
        },
        "id": "0coru3AIZBKa",
        "outputId": "0ad874a0-4fcf-452f-88d4-bc11fd3dec2a"
      },
      "source": [
        "i=10\n",
        "for i in range(5):\n",
        "     print(i)\n",
        "     i=i+3\n",
        "     print(i)"
      ],
      "execution_count": null,
      "outputs": [
        {
          "output_type": "stream",
          "name": "stdout",
          "text": [
            "0\n",
            "3\n",
            "1\n",
            "4\n",
            "2\n",
            "5\n",
            "3\n",
            "6\n",
            "4\n",
            "7\n"
          ]
        }
      ]
    },
    {
      "cell_type": "code",
      "metadata": {
        "colab": {
          "base_uri": "https://localhost:8080/"
        },
        "id": "l7369SDsZYZ8",
        "outputId": "22576063-85aa-4a0f-ad92-7f19a2e99657"
      },
      "source": [
        "p=1\n",
        "n=int(input('enter a number'))\n",
        "for i in range(1,n+1):\n",
        "      p*=i\n",
        "print(n,'!=',p)      "
      ],
      "execution_count": null,
      "outputs": [
        {
          "output_type": "stream",
          "name": "stdout",
          "text": [
            "enter a number6\n",
            "6 != 720\n"
          ]
        }
      ]
    },
    {
      "cell_type": "code",
      "metadata": {
        "colab": {
          "base_uri": "https://localhost:8080/"
        },
        "id": "yfbyZrOAaGZ_",
        "outputId": "40827874-31e7-4d61-f3c3-b222301f0927"
      },
      "source": [
        "i=0\n",
        "while i<=9:\n",
        "     if i%3==0:\n",
        "          print(i) \n",
        "     i=i+1\n",
        "print(\"out of loop\")          "
      ],
      "execution_count": null,
      "outputs": [
        {
          "output_type": "stream",
          "name": "stdout",
          "text": [
            "0\n",
            "3\n",
            "6\n",
            "9\n",
            "out of loop\n"
          ]
        }
      ]
    },
    {
      "cell_type": "code",
      "metadata": {
        "colab": {
          "base_uri": "https://localhost:8080/"
        },
        "id": "LP08YHyFbTOp",
        "outputId": "c06e3c13-4764-4562-a64b-9e2298be8320"
      },
      "source": [
        "i=0\n",
        "while i>=9:\n",
        "     if i%3==0:\n",
        "          print(i) \n",
        "     i=i+1\n",
        "print(\"out of loop\")"
      ],
      "execution_count": null,
      "outputs": [
        {
          "output_type": "stream",
          "name": "stdout",
          "text": [
            "out of loop\n"
          ]
        }
      ]
    },
    {
      "cell_type": "code",
      "metadata": {
        "colab": {
          "base_uri": "https://localhost:8080/"
        },
        "id": "_0GUHDzMbk2h",
        "outputId": "1419719e-0bde-4bd9-b7de-ddadd480c460"
      },
      "source": [
        "i=1\n",
        "sum_e,sum_o=0,0\n",
        "while i<=10:\n",
        "    if i%2==0:\n",
        "          sum_e+=i\n",
        "    else:\n",
        "             sum_o+=i\n",
        "    i=i+1\n",
        "print(\"Sum of even numbers:\",sum_e)\n",
        "print(\"Sum of odd numbers:\",sum_o)                  "
      ],
      "execution_count": null,
      "outputs": [
        {
          "output_type": "stream",
          "name": "stdout",
          "text": [
            "Sum of even numbers: 30\n",
            "Sum of odd numbers: 25\n"
          ]
        }
      ]
    },
    {
      "cell_type": "code",
      "metadata": {
        "colab": {
          "base_uri": "https://localhost:8080/"
        },
        "id": "J-PqT-pddBG5",
        "outputId": "578675f6-50b9-4201-eb5e-5aac29c02c6c"
      },
      "source": [
        "i=1\n",
        "sum_e=0\n",
        "sum_o=0\n",
        "while i<=5:\n",
        "    n=int(input())\n",
        "    if n%2==0:\n",
        "        sum_e+=n\n",
        "    else:\n",
        "         sum_o+=n\n",
        "    i=i+1\n",
        "print(\"Sum of even numbers:\",sum_e)  \n",
        "print(\"Sum of even numbers:\",sum_e)"
      ],
      "execution_count": null,
      "outputs": [
        {
          "output_type": "stream",
          "name": "stdout",
          "text": [
            "70\n",
            "90\n",
            "87\n",
            "85\n",
            "45\n",
            "Sum of even numbers: 160\n",
            "Sum of even numbers: 160\n"
          ]
        }
      ]
    },
    {
      "cell_type": "code",
      "metadata": {
        "colab": {
          "base_uri": "https://localhost:8080/"
        },
        "id": "b3yxXI7nfBvV",
        "outputId": "895545a6-ad1d-43a6-cc7f-ff7294ec25c9"
      },
      "source": [
        "for i in range(2):\n",
        "      for j in range(3):\n",
        "            print(i,j)"
      ],
      "execution_count": null,
      "outputs": [
        {
          "output_type": "stream",
          "name": "stdout",
          "text": [
            "0 0\n",
            "0 1\n",
            "0 2\n",
            "1 0\n",
            "1 1\n",
            "1 2\n"
          ]
        }
      ]
    },
    {
      "cell_type": "code",
      "metadata": {
        "colab": {
          "base_uri": "https://localhost:8080/"
        },
        "id": "opQwNju9fd5X",
        "outputId": "4a9afc04-ecbb-44be-c4b1-6b8347e02550"
      },
      "source": [
        "i,j=0,0\n",
        "while i<2:\n",
        "     while j<3:\n",
        "          print(i,j)\n",
        "          i+=1\n",
        "          j+=1"
      ],
      "execution_count": null,
      "outputs": [
        {
          "output_type": "stream",
          "name": "stdout",
          "text": [
            "0 0\n",
            "1 1\n",
            "2 2\n"
          ]
        }
      ]
    },
    {
      "cell_type": "code",
      "metadata": {
        "colab": {
          "base_uri": "https://localhost:8080/"
        },
        "id": "xRJMVtGtf_LA",
        "outputId": "6e2b04b5-dbc4-4af5-c312-4cd8e8cf2779"
      },
      "source": [
        "for i in range(2):\n",
        " sum_r=0\n",
        "for j in range(3):\n",
        "      n=int(input('enter')) \n",
        "      sum_r+=n\n",
        "print(sum_r)      "
      ],
      "execution_count": null,
      "outputs": [
        {
          "output_type": "stream",
          "name": "stdout",
          "text": [
            "enter67\n",
            "enter76\n",
            "enter87\n",
            "230\n"
          ]
        }
      ]
    },
    {
      "cell_type": "code",
      "metadata": {
        "colab": {
          "base_uri": "https://localhost:8080/"
        },
        "id": "OzZnJeSIhGZH",
        "outputId": "3b695326-5c87-4aad-f74c-4081d4deecfe"
      },
      "source": [
        "sum=0\n",
        "for i in range(2):\n",
        "    for j in range(3):\n",
        "           n=int(input('enter'))\n",
        "           sum+=n\n",
        "print(sum)           "
      ],
      "execution_count": null,
      "outputs": [
        {
          "output_type": "stream",
          "name": "stdout",
          "text": [
            "enter76\n",
            "enter98\n",
            "enter65\n",
            "enter83\n",
            "enter43\n",
            "enter65\n",
            "430\n"
          ]
        }
      ]
    },
    {
      "cell_type": "code",
      "metadata": {
        "colab": {
          "base_uri": "https://localhost:8080/",
          "height": 246
        },
        "id": "KLFRTycFhw_q",
        "outputId": "18f993ae-84bc-4bb3-a330-0d9b7cb4d5e0"
      },
      "source": [
        "z=10\n",
        "w=-10\n",
        "while(z<50):\n",
        "    if(z>0 and w<0):\n",
        "        print(z**2,w**3)\n",
        "        z=z+10\n",
        "        w=w+10"
      ],
      "execution_count": null,
      "outputs": [
        {
          "output_type": "stream",
          "name": "stdout",
          "text": [
            "100 -1000\n"
          ]
        },
        {
          "output_type": "error",
          "ename": "KeyboardInterrupt",
          "evalue": "ignored",
          "traceback": [
            "\u001b[0;31m---------------------------------------------------------------------------\u001b[0m",
            "\u001b[0;31mKeyboardInterrupt\u001b[0m                         Traceback (most recent call last)",
            "\u001b[0;32m<ipython-input-31-ee576239b05c>\u001b[0m in \u001b[0;36m<module>\u001b[0;34m()\u001b[0m\n\u001b[1;32m      2\u001b[0m \u001b[0mw\u001b[0m\u001b[0;34m=\u001b[0m\u001b[0;34m-\u001b[0m\u001b[0;36m10\u001b[0m\u001b[0;34m\u001b[0m\u001b[0;34m\u001b[0m\u001b[0m\n\u001b[1;32m      3\u001b[0m \u001b[0;32mwhile\u001b[0m\u001b[0;34m(\u001b[0m\u001b[0mz\u001b[0m\u001b[0;34m<\u001b[0m\u001b[0;36m50\u001b[0m\u001b[0;34m)\u001b[0m\u001b[0;34m:\u001b[0m\u001b[0;34m\u001b[0m\u001b[0;34m\u001b[0m\u001b[0m\n\u001b[0;32m----> 4\u001b[0;31m     \u001b[0;32mif\u001b[0m\u001b[0;34m(\u001b[0m\u001b[0mz\u001b[0m\u001b[0;34m>\u001b[0m\u001b[0;36m0\u001b[0m \u001b[0;32mand\u001b[0m \u001b[0mw\u001b[0m\u001b[0;34m<\u001b[0m\u001b[0;36m0\u001b[0m\u001b[0;34m)\u001b[0m\u001b[0;34m:\u001b[0m\u001b[0;34m\u001b[0m\u001b[0;34m\u001b[0m\u001b[0m\n\u001b[0m\u001b[1;32m      5\u001b[0m         \u001b[0mprint\u001b[0m\u001b[0;34m(\u001b[0m\u001b[0mz\u001b[0m\u001b[0;34m**\u001b[0m\u001b[0;36m2\u001b[0m\u001b[0;34m,\u001b[0m\u001b[0mw\u001b[0m\u001b[0;34m**\u001b[0m\u001b[0;36m3\u001b[0m\u001b[0;34m)\u001b[0m\u001b[0;34m\u001b[0m\u001b[0;34m\u001b[0m\u001b[0m\n\u001b[1;32m      6\u001b[0m         \u001b[0mz\u001b[0m\u001b[0;34m=\u001b[0m\u001b[0mz\u001b[0m\u001b[0;34m+\u001b[0m\u001b[0;36m10\u001b[0m\u001b[0;34m\u001b[0m\u001b[0;34m\u001b[0m\u001b[0m\n",
            "\u001b[0;31mKeyboardInterrupt\u001b[0m: "
          ]
        }
      ]
    },
    {
      "cell_type": "code",
      "metadata": {
        "id": "GaBe-zAWirmh"
      },
      "source": [
        "z,w=10,-10\n",
        "while(z<50):\n",
        "  if(z>0 or w<0):\n",
        "      print(z**2,w**3)\n",
        "      z=z+10\n",
        "      w=w+10\n"
      ],
      "execution_count": null,
      "outputs": []
    },
    {
      "cell_type": "code",
      "metadata": {
        "id": "Zaz6lzb0mBwX"
      },
      "source": [
        "for k in range(3,21,3):\n",
        "      if k%5==0:\n",
        "          break\n",
        "       print(k)   "
      ],
      "execution_count": null,
      "outputs": []
    },
    {
      "cell_type": "code",
      "metadata": {
        "id": "w8cf4NVMm5_s"
      },
      "source": [
        "for k in range(3,21,3):\n",
        "     if k%5==0:\n",
        "          continue\n",
        "      print(k)    "
      ],
      "execution_count": null,
      "outputs": []
    }
  ]
}