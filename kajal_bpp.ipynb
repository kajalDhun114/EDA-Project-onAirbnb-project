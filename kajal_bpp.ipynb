{
  "nbformat": 4,
  "nbformat_minor": 0,
  "metadata": {
    "colab": {
      "name": "kajal bpp.ipynb",
      "provenance": [],
      "collapsed_sections": [],
      "authorship_tag": "ABX9TyPbNc5V+f/ozGV0WeO6kSck",
      "include_colab_link": true
    },
    "kernelspec": {
      "name": "python3",
      "display_name": "Python 3"
    },
    "language_info": {
      "name": "python"
    }
  },
  "cells": [
    {
      "cell_type": "markdown",
      "metadata": {
        "id": "view-in-github",
        "colab_type": "text"
      },
      "source": [
        "<a href=\"https://colab.research.google.com/github/kajalDhun114/EDA-Project-onAirbnb-project/blob/main/kajal_bpp.ipynb\" target=\"_parent\"><img src=\"https://colab.research.google.com/assets/colab-badge.svg\" alt=\"Open In Colab\"/></a>"
      ]
    },
    {
      "cell_type": "markdown",
      "metadata": {
        "id": "HjcQ6M4hbEkp"
      },
      "source": [
        "#Python Programs"
      ]
    },
    {
      "cell_type": "markdown",
      "metadata": {
        "id": "cDNmUC9sbfu0"
      },
      "source": [
        "#Python Programs"
      ]
    },
    {
      "cell_type": "markdown",
      "metadata": {
        "id": "KHpGcdR5bqU0"
      },
      "source": [
        "#Basic Arithmetic"
      ]
    },
    {
      "cell_type": "code",
      "metadata": {
        "colab": {
          "base_uri": "https://localhost:8080/"
        },
        "id": "vEgns-Iqb67L",
        "outputId": "cc4936a9-b96e-45d5-d611-651144e234f4"
      },
      "source": [
        "#Addition\n",
        "print (\"input first number:\")\n",
        "a=int(input())\n",
        "print(\"input second number:\")\n",
        "b=int(input())\n",
        "print(\"sum of a and b:\")\n",
        "c=a+b\n",
        "print(c)"
      ],
      "execution_count": null,
      "outputs": [
        {
          "output_type": "stream",
          "name": "stdout",
          "text": [
            "input first number:\n",
            "1\n",
            "input second number:\n",
            "4\n",
            "sum of a and b:\n",
            "5\n"
          ]
        }
      ]
    },
    {
      "cell_type": "code",
      "metadata": {
        "colab": {
          "base_uri": "https://localhost:8080/"
        },
        "id": "DlkV4TwMd9VL",
        "outputId": "b567c8d6-5ec9-4a68-b6e7-a8b62a84023f"
      },
      "source": [
        "#Subtraction\n",
        "print (\"input first number:\")\n",
        "a=int(input())\n",
        "print(\"input second number:\")\n",
        "b=int(input())\n",
        "print(\"subtraction of a and b:\")\n",
        "c=a-b\n",
        "print(c)"
      ],
      "execution_count": null,
      "outputs": [
        {
          "output_type": "stream",
          "name": "stdout",
          "text": [
            "input first number:\n",
            "5\n",
            "input second number:\n",
            "3\n",
            "subtraction of a and b:\n",
            "2\n"
          ]
        }
      ]
    },
    {
      "cell_type": "code",
      "metadata": {
        "colab": {
          "base_uri": "https://localhost:8080/"
        },
        "id": "iy98E6SZerYF",
        "outputId": "ffaaf4a1-d05e-449e-86cd-8637111b65a8"
      },
      "source": [
        "#Multiplication\n",
        "print (\"input first number:\")\n",
        "a=int(input())\n",
        "print(\"input second number:\")\n",
        "b=int(input())\n",
        "print(\"multiply of a and b:\")\n",
        "c=a*b\n",
        "print(c)"
      ],
      "execution_count": null,
      "outputs": [
        {
          "output_type": "stream",
          "name": "stdout",
          "text": [
            "input first number:\n",
            "3\n",
            "input second number:\n",
            "5\n",
            "multiply of a and b:\n",
            "15\n"
          ]
        }
      ]
    },
    {
      "cell_type": "code",
      "metadata": {
        "colab": {
          "base_uri": "https://localhost:8080/"
        },
        "id": "X2M5lEMkfGFV",
        "outputId": "ccf33bd3-f9b4-479b-e512-1733ffade8a1"
      },
      "source": [
        "#Division\n",
        "print (\"input first number:\")\n",
        "a=int(input())\n",
        "print(\"input second number:\")\n",
        "b=int(input())\n",
        "print(\"divide of a and b:\")\n",
        "c=a%b\n",
        "print(c)"
      ],
      "execution_count": null,
      "outputs": [
        {
          "output_type": "stream",
          "name": "stdout",
          "text": [
            "input first number:\n",
            "2\n",
            "input second number:\n",
            "4\n",
            "divide of a and b:\n",
            "2\n"
          ]
        }
      ]
    },
    {
      "cell_type": "code",
      "metadata": {
        "colab": {
          "base_uri": "https://localhost:8080/"
        },
        "id": "NUlXrJO9fP9a",
        "outputId": "6e638be0-e0b5-4a82-c7ac-01bea3f04c8c"
      },
      "source": [
        "#Floor Division\n",
        "print (\"input first number:\")\n",
        "a=int(input())\n",
        "print(\"input second number:\")\n",
        "b=int(input())\n",
        "print(\"floor division of a and b:\")\n",
        "c=a//b\n",
        "print(c)"
      ],
      "execution_count": null,
      "outputs": [
        {
          "output_type": "stream",
          "name": "stdout",
          "text": [
            "input first number:\n",
            "2\n",
            "input second number:\n",
            "8\n",
            "floor division of a and b:\n",
            "0\n"
          ]
        }
      ]
    },
    {
      "cell_type": "code",
      "metadata": {
        "colab": {
          "base_uri": "https://localhost:8080/"
        },
        "id": "2X-f3T8wfe2a",
        "outputId": "63617501-b369-443a-b861-74886332a577"
      },
      "source": [
        "#Floor Division\n",
        "print (\"input first number:\")\n",
        "a=int(input())\n",
        "print(\"input second number:\")\n",
        "b=int(input())\n",
        "print(\"floor division of a and b:\")\n",
        "c=a//b\n",
        "print(c)"
      ],
      "execution_count": null,
      "outputs": [
        {
          "output_type": "stream",
          "name": "stdout",
          "text": [
            "input first number:\n",
            "8\n",
            "input second number:\n",
            "4\n",
            "floor division of a and b:\n",
            "2\n"
          ]
        }
      ]
    },
    {
      "cell_type": "markdown",
      "metadata": {
        "id": "3p7XZET8gdd7"
      },
      "source": [
        "#Variable Assignments"
      ]
    },
    {
      "cell_type": "code",
      "metadata": {
        "colab": {
          "base_uri": "https://localhost:8080/"
        },
        "id": "AKWI8OwYgoNI",
        "outputId": "9cd07fff-2242-4d21-80e3-844e7b83b5d8"
      },
      "source": [
        "a=7\n",
        "a"
      ],
      "execution_count": null,
      "outputs": [
        {
          "output_type": "execute_result",
          "data": {
            "text/plain": [
              "7"
            ]
          },
          "metadata": {},
          "execution_count": 9
        }
      ]
    },
    {
      "cell_type": "code",
      "metadata": {
        "colab": {
          "base_uri": "https://localhost:8080/"
        },
        "id": "g3iEeDvthE7M",
        "outputId": "1ff39602-c4a4-44bf-f72d-3c34850091b8"
      },
      "source": [
        "a=a+a\n",
        "a"
      ],
      "execution_count": null,
      "outputs": [
        {
          "output_type": "execute_result",
          "data": {
            "text/plain": [
              "14"
            ]
          },
          "metadata": {},
          "execution_count": 10
        }
      ]
    },
    {
      "cell_type": "code",
      "metadata": {
        "colab": {
          "base_uri": "https://localhost:8080/"
        },
        "id": "QYudWx8whLiU",
        "outputId": "7290889f-9f56-4661-eb1b-0551dc3f8e52"
      },
      "source": [
        "a=a/7\n",
        "a"
      ],
      "execution_count": null,
      "outputs": [
        {
          "output_type": "execute_result",
          "data": {
            "text/plain": [
              "2.0"
            ]
          },
          "metadata": {},
          "execution_count": 11
        }
      ]
    },
    {
      "cell_type": "code",
      "metadata": {
        "colab": {
          "base_uri": "https://localhost:8080/"
        },
        "id": "psXA4kUIhRG_",
        "outputId": "4ded0f75-dbaf-4ff4-c2d0-74e46f754df3"
      },
      "source": [
        "a=a-2\n",
        "a"
      ],
      "execution_count": null,
      "outputs": [
        {
          "output_type": "execute_result",
          "data": {
            "text/plain": [
              "0.0"
            ]
          },
          "metadata": {},
          "execution_count": 12
        }
      ]
    },
    {
      "cell_type": "markdown",
      "metadata": {
        "id": "tpn0pkaLhdZf"
      },
      "source": [
        "#Determining variable type with type()"
      ]
    },
    {
      "cell_type": "code",
      "metadata": {
        "colab": {
          "base_uri": "https://localhost:8080/"
        },
        "id": "Vdv7-uqBhoJS",
        "outputId": "5e5c121e-d849-4d5c-cd99-2488816ba593"
      },
      "source": [
        "a=7\n",
        "type(a)"
      ],
      "execution_count": null,
      "outputs": [
        {
          "output_type": "execute_result",
          "data": {
            "text/plain": [
              "int"
            ]
          },
          "metadata": {},
          "execution_count": 13
        }
      ]
    },
    {
      "cell_type": "code",
      "metadata": {
        "colab": {
          "base_uri": "https://localhost:8080/"
        },
        "id": "lS3vlGkChxAv",
        "outputId": "19026dc2-8b14-4a95-f4d5-43f0cd435abe"
      },
      "source": [
        "b=7.2\n",
        "type(b)"
      ],
      "execution_count": null,
      "outputs": [
        {
          "output_type": "execute_result",
          "data": {
            "text/plain": [
              "float"
            ]
          },
          "metadata": {},
          "execution_count": 14
        }
      ]
    },
    {
      "cell_type": "code",
      "metadata": {
        "colab": {
          "base_uri": "https://localhost:8080/"
        },
        "id": "445wQccMh3h8",
        "outputId": "740f8209-79f5-471b-b414-c953dadabbe8"
      },
      "source": [
        "c=\"hello\"\n",
        "type(c)"
      ],
      "execution_count": null,
      "outputs": [
        {
          "output_type": "execute_result",
          "data": {
            "text/plain": [
              "str"
            ]
          },
          "metadata": {},
          "execution_count": 15
        }
      ]
    },
    {
      "cell_type": "code",
      "metadata": {
        "colab": {
          "base_uri": "https://localhost:8080/"
        },
        "id": "9plQSYZfh-WM",
        "outputId": "120d9206-f878-408c-96c0-27a167a344f3"
      },
      "source": [
        "d=[1,2,3]\n",
        "type(d)"
      ],
      "execution_count": null,
      "outputs": [
        {
          "output_type": "execute_result",
          "data": {
            "text/plain": [
              "list"
            ]
          },
          "metadata": {},
          "execution_count": 16
        }
      ]
    },
    {
      "cell_type": "code",
      "metadata": {
        "colab": {
          "base_uri": "https://localhost:8080/"
        },
        "id": "G5n7MNtXiHSC",
        "outputId": "c25dc7d4-db92-44d9-ec48-bbcecfea4534"
      },
      "source": [
        "e=(1,2,3)\n",
        "type(e)"
      ],
      "execution_count": null,
      "outputs": [
        {
          "output_type": "execute_result",
          "data": {
            "text/plain": [
              "tuple"
            ]
          },
          "metadata": {},
          "execution_count": 17
        }
      ]
    },
    {
      "cell_type": "code",
      "metadata": {
        "colab": {
          "base_uri": "https://localhost:8080/"
        },
        "id": "i97Ap-EUiQTk",
        "outputId": "9b07c0f5-b9f8-4938-f678-df3bc3b3d7cd"
      },
      "source": [
        "f={1:\"one\",2:\"two\"}\n",
        "type(f)"
      ],
      "execution_count": null,
      "outputs": [
        {
          "output_type": "execute_result",
          "data": {
            "text/plain": [
              "dict"
            ]
          },
          "metadata": {},
          "execution_count": 18
        }
      ]
    },
    {
      "cell_type": "code",
      "metadata": {
        "colab": {
          "base_uri": "https://localhost:8080/"
        },
        "id": "RdMXj2PkieNq",
        "outputId": "67f178c8-01a5-4ccd-9bb0-54f862ad3b16"
      },
      "source": [
        "g={1,2,3}\n",
        "type(g)"
      ],
      "execution_count": null,
      "outputs": [
        {
          "output_type": "execute_result",
          "data": {
            "text/plain": [
              "set"
            ]
          },
          "metadata": {},
          "execution_count": 19
        }
      ]
    },
    {
      "cell_type": "code",
      "metadata": {
        "colab": {
          "base_uri": "https://localhost:8080/"
        },
        "id": "dp4AFW1VinYB",
        "outputId": "4a832e0d-be9c-4bf6-9376-5dd0f39a967e"
      },
      "source": [
        "i=True\n",
        "type(i)"
      ],
      "execution_count": null,
      "outputs": [
        {
          "output_type": "execute_result",
          "data": {
            "text/plain": [
              "bool"
            ]
          },
          "metadata": {},
          "execution_count": 22
        }
      ]
    },
    {
      "cell_type": "markdown",
      "metadata": {
        "id": "c2ougrzDi-Uk"
      },
      "source": [
        "#String Basics"
      ]
    },
    {
      "cell_type": "code",
      "metadata": {
        "colab": {
          "base_uri": "https://localhost:8080/",
          "height": 35
        },
        "id": "1xD6wYmSjDVF",
        "outputId": "e3909f92-afd1-4208-988b-2e4097b437db"
      },
      "source": [
        "s='python_codes'\n",
        "s"
      ],
      "execution_count": null,
      "outputs": [
        {
          "output_type": "execute_result",
          "data": {
            "application/vnd.google.colaboratory.intrinsic+json": {
              "type": "string"
            },
            "text/plain": [
              "'python_codes'"
            ]
          },
          "metadata": {},
          "execution_count": 23
        }
      ]
    },
    {
      "cell_type": "code",
      "metadata": {
        "colab": {
          "base_uri": "https://localhost:8080/"
        },
        "id": "EWlBWVZ1jQCq",
        "outputId": "6318c6ad-57f3-4793-8669-f1e308c8786a"
      },
      "source": [
        "len(s)"
      ],
      "execution_count": null,
      "outputs": [
        {
          "output_type": "execute_result",
          "data": {
            "text/plain": [
              "12"
            ]
          },
          "metadata": {},
          "execution_count": 24
        }
      ]
    },
    {
      "cell_type": "code",
      "metadata": {
        "colab": {
          "base_uri": "https://localhost:8080/",
          "height": 35
        },
        "id": "oUVuiCArjVQR",
        "outputId": "f053691e-afb9-4652-e334-d29eddacf3a0"
      },
      "source": [
        "s[0]"
      ],
      "execution_count": null,
      "outputs": [
        {
          "output_type": "execute_result",
          "data": {
            "application/vnd.google.colaboratory.intrinsic+json": {
              "type": "string"
            },
            "text/plain": [
              "'p'"
            ]
          },
          "metadata": {},
          "execution_count": 26
        }
      ]
    },
    {
      "cell_type": "code",
      "metadata": {
        "colab": {
          "base_uri": "https://localhost:8080/",
          "height": 35
        },
        "id": "uXg5VAmzjglJ",
        "outputId": "ee0ec7ea-5fbd-42c8-bfb8-6c33e9c49087"
      },
      "source": [
        "s[1:]"
      ],
      "execution_count": null,
      "outputs": [
        {
          "output_type": "execute_result",
          "data": {
            "application/vnd.google.colaboratory.intrinsic+json": {
              "type": "string"
            },
            "text/plain": [
              "'ython_codes'"
            ]
          },
          "metadata": {},
          "execution_count": 27
        }
      ]
    },
    {
      "cell_type": "code",
      "metadata": {
        "colab": {
          "base_uri": "https://localhost:8080/",
          "height": 35
        },
        "id": "LXjyoULzjkNS",
        "outputId": "85dd86b0-59ab-411c-fe7d-dcfac454b03e"
      },
      "source": [
        "s"
      ],
      "execution_count": null,
      "outputs": [
        {
          "output_type": "execute_result",
          "data": {
            "application/vnd.google.colaboratory.intrinsic+json": {
              "type": "string"
            },
            "text/plain": [
              "'python_codes'"
            ]
          },
          "metadata": {},
          "execution_count": 28
        }
      ]
    },
    {
      "cell_type": "code",
      "metadata": {
        "colab": {
          "base_uri": "https://localhost:8080/",
          "height": 35
        },
        "id": "GqIH_eoZjslM",
        "outputId": "705973f4-8ade-4527-bded-ffbf70ba342b"
      },
      "source": [
        "s[:7]"
      ],
      "execution_count": null,
      "outputs": [
        {
          "output_type": "execute_result",
          "data": {
            "application/vnd.google.colaboratory.intrinsic+json": {
              "type": "string"
            },
            "text/plain": [
              "'python_'"
            ]
          },
          "metadata": {},
          "execution_count": 29
        }
      ]
    },
    {
      "cell_type": "code",
      "metadata": {
        "colab": {
          "base_uri": "https://localhost:8080/",
          "height": 35
        },
        "id": "fwKrsK-_jyFq",
        "outputId": "d36ec367-f6f8-493c-8a82-313de73dc8b1"
      },
      "source": [
        "s[:]"
      ],
      "execution_count": null,
      "outputs": [
        {
          "output_type": "execute_result",
          "data": {
            "application/vnd.google.colaboratory.intrinsic+json": {
              "type": "string"
            },
            "text/plain": [
              "'python_codes'"
            ]
          },
          "metadata": {},
          "execution_count": 30
        }
      ]
    },
    {
      "cell_type": "code",
      "metadata": {
        "colab": {
          "base_uri": "https://localhost:8080/",
          "height": 35
        },
        "id": "U_06o3a-j5tn",
        "outputId": "fa183d37-58e6-4c50-bafd-5c09b20c1117"
      },
      "source": [
        "s[::1]"
      ],
      "execution_count": null,
      "outputs": [
        {
          "output_type": "execute_result",
          "data": {
            "application/vnd.google.colaboratory.intrinsic+json": {
              "type": "string"
            },
            "text/plain": [
              "'python_codes'"
            ]
          },
          "metadata": {},
          "execution_count": 31
        }
      ]
    },
    {
      "cell_type": "code",
      "metadata": {
        "colab": {
          "base_uri": "https://localhost:8080/",
          "height": 35
        },
        "id": "yABzQEFHkDNI",
        "outputId": "86ab3b5a-fb27-4e0c-8e99-9dee54ea50bd"
      },
      "source": [
        "s[::-1]"
      ],
      "execution_count": null,
      "outputs": [
        {
          "output_type": "execute_result",
          "data": {
            "application/vnd.google.colaboratory.intrinsic+json": {
              "type": "string"
            },
            "text/plain": [
              "'sedoc_nohtyp'"
            ]
          },
          "metadata": {},
          "execution_count": 32
        }
      ]
    },
    {
      "cell_type": "code",
      "metadata": {
        "colab": {
          "base_uri": "https://localhost:8080/",
          "height": 35
        },
        "id": "DuPRhQIAkKGZ",
        "outputId": "815d2cd8-8b66-4c05-d689-36aa4d863f5d"
      },
      "source": [
        "var=\"a\"\n",
        "var*10"
      ],
      "execution_count": null,
      "outputs": [
        {
          "output_type": "execute_result",
          "data": {
            "application/vnd.google.colaboratory.intrinsic+json": {
              "type": "string"
            },
            "text/plain": [
              "'aaaaaaaaaa'"
            ]
          },
          "metadata": {},
          "execution_count": 34
        }
      ]
    },
    {
      "cell_type": "code",
      "metadata": {
        "colab": {
          "base_uri": "https://localhost:8080/",
          "height": 35
        },
        "id": "BH8m95FYkXje",
        "outputId": "ade059e7-950f-4dd1-d879-f65af4fe3157"
      },
      "source": [
        "s=s+\"python channel\"\n",
        "s"
      ],
      "execution_count": null,
      "outputs": [
        {
          "output_type": "execute_result",
          "data": {
            "application/vnd.google.colaboratory.intrinsic+json": {
              "type": "string"
            },
            "text/plain": [
              "'python_codespython channel'"
            ]
          },
          "metadata": {},
          "execution_count": 35
        }
      ]
    },
    {
      "cell_type": "code",
      "metadata": {
        "colab": {
          "base_uri": "https://localhost:8080/",
          "height": 35
        },
        "id": "LiZ7tVrKki8h",
        "outputId": "8a216e11-0cc7-4816-d655-fc7056007cba"
      },
      "source": [
        "s.upper()"
      ],
      "execution_count": null,
      "outputs": [
        {
          "output_type": "execute_result",
          "data": {
            "application/vnd.google.colaboratory.intrinsic+json": {
              "type": "string"
            },
            "text/plain": [
              "'PYTHON_CODESPYTHON CHANNEL'"
            ]
          },
          "metadata": {},
          "execution_count": 36
        }
      ]
    },
    {
      "cell_type": "code",
      "metadata": {
        "colab": {
          "base_uri": "https://localhost:8080/"
        },
        "id": "w9PLgYynkqZk",
        "outputId": "e369b2e4-af34-448c-b0fc-76a899f513db"
      },
      "source": [
        "s.lower"
      ],
      "execution_count": null,
      "outputs": [
        {
          "output_type": "execute_result",
          "data": {
            "text/plain": [
              "<function str.lower>"
            ]
          },
          "metadata": {},
          "execution_count": 37
        }
      ]
    },
    {
      "cell_type": "code",
      "metadata": {
        "colab": {
          "base_uri": "https://localhost:8080/"
        },
        "id": "Vj0AdDRtkx9P",
        "outputId": "245ff521-0669-44ed-88e7-957e9d2c62f0"
      },
      "source": [
        "s.split('codes')"
      ],
      "execution_count": null,
      "outputs": [
        {
          "output_type": "execute_result",
          "data": {
            "text/plain": [
              "['python_', 'python channel']"
            ]
          },
          "metadata": {},
          "execution_count": 38
        }
      ]
    },
    {
      "cell_type": "markdown",
      "metadata": {
        "id": "RhJ3GIAyk554"
      },
      "source": [
        "#Lists"
      ]
    },
    {
      "cell_type": "code",
      "metadata": {
        "colab": {
          "base_uri": "https://localhost:8080/"
        },
        "id": "97jcApJxlAVX",
        "outputId": "42efa495-1124-4a13-ea68-d39f9fbc29c2"
      },
      "source": [
        "list=[8,0,5,1]\n",
        "list"
      ],
      "execution_count": null,
      "outputs": [
        {
          "output_type": "execute_result",
          "data": {
            "text/plain": [
              "[8, 0, 5, 1]"
            ]
          },
          "metadata": {},
          "execution_count": 39
        }
      ]
    },
    {
      "cell_type": "code",
      "metadata": {
        "colab": {
          "base_uri": "https://localhost:8080/"
        },
        "id": "__G2v6FclK18",
        "outputId": "69806f89-b3e0-4d22-8bd1-d5818119dbab"
      },
      "source": [
        "len(list)"
      ],
      "execution_count": null,
      "outputs": [
        {
          "output_type": "execute_result",
          "data": {
            "text/plain": [
              "4"
            ]
          },
          "metadata": {},
          "execution_count": 40
        }
      ]
    },
    {
      "cell_type": "code",
      "metadata": {
        "colab": {
          "base_uri": "https://localhost:8080/"
        },
        "id": "wKA2BahvlRyt",
        "outputId": "764bdf43-a17a-419e-cf7d-5cbf136293bc"
      },
      "source": [
        "list_2=['string',8086,'p']\n",
        "list_2"
      ],
      "execution_count": null,
      "outputs": [
        {
          "output_type": "execute_result",
          "data": {
            "text/plain": [
              "['string', 8086, 'p']"
            ]
          },
          "metadata": {},
          "execution_count": 41
        }
      ]
    },
    {
      "cell_type": "code",
      "metadata": {
        "colab": {
          "base_uri": "https://localhost:8080/"
        },
        "id": "Bma0KTM9lkFs",
        "outputId": "7c892469-4856-4b94-f098-8b8408d97cc5"
      },
      "source": [
        "len(list_2)"
      ],
      "execution_count": null,
      "outputs": [
        {
          "output_type": "execute_result",
          "data": {
            "text/plain": [
              "3"
            ]
          },
          "metadata": {},
          "execution_count": 42
        }
      ]
    },
    {
      "cell_type": "markdown",
      "metadata": {
        "id": "EM4a5ZQflsdu"
      },
      "source": [
        "#Indexing and Slicing"
      ]
    },
    {
      "cell_type": "code",
      "metadata": {
        "colab": {
          "base_uri": "https://localhost:8080/",
          "height": 35
        },
        "id": "sLmkFq8rl25O",
        "outputId": "ed12bdd3-8cdf-4cd7-afca-a4d0d33bbd6b"
      },
      "source": [
        "list=['one','ox','ok']\n",
        "list[0]"
      ],
      "execution_count": null,
      "outputs": [
        {
          "output_type": "execute_result",
          "data": {
            "application/vnd.google.colaboratory.intrinsic+json": {
              "type": "string"
            },
            "text/plain": [
              "'one'"
            ]
          },
          "metadata": {},
          "execution_count": 43
        }
      ]
    },
    {
      "cell_type": "code",
      "metadata": {
        "colab": {
          "base_uri": "https://localhost:8080/"
        },
        "id": "8r4JhAUSmKzK",
        "outputId": "36e50a72-d390-4083-a84a-d7b1a15064c8"
      },
      "source": [
        "list[1:]"
      ],
      "execution_count": null,
      "outputs": [
        {
          "output_type": "execute_result",
          "data": {
            "text/plain": [
              "['ox', 'ok']"
            ]
          },
          "metadata": {},
          "execution_count": 44
        }
      ]
    },
    {
      "cell_type": "code",
      "metadata": {
        "colab": {
          "base_uri": "https://localhost:8080/"
        },
        "id": "qKb5fZ_ymRDY",
        "outputId": "ac3aa5ba-af45-42b5-c79a-22ef4b274473"
      },
      "source": [
        "list[:2]"
      ],
      "execution_count": null,
      "outputs": [
        {
          "output_type": "execute_result",
          "data": {
            "text/plain": [
              "['one', 'ox']"
            ]
          },
          "metadata": {},
          "execution_count": 45
        }
      ]
    },
    {
      "cell_type": "code",
      "metadata": {
        "colab": {
          "base_uri": "https://localhost:8080/",
          "height": 35
        },
        "id": "qn9DfAtkmVyh",
        "outputId": "b4397623-1752-4176-d1fc-a378a894a199"
      },
      "source": [
        "list[-1]"
      ],
      "execution_count": null,
      "outputs": [
        {
          "output_type": "execute_result",
          "data": {
            "application/vnd.google.colaboratory.intrinsic+json": {
              "type": "string"
            },
            "text/plain": [
              "'ok'"
            ]
          },
          "metadata": {},
          "execution_count": 46
        }
      ]
    },
    {
      "cell_type": "code",
      "metadata": {
        "colab": {
          "base_uri": "https://localhost:8080/"
        },
        "id": "XXSa5fg1mZwp",
        "outputId": "c7ce4f28-180d-4d25-c5d6-a526c13d0923"
      },
      "source": [
        "list[::-1]"
      ],
      "execution_count": null,
      "outputs": [
        {
          "output_type": "execute_result",
          "data": {
            "text/plain": [
              "['ok', 'ox', 'one']"
            ]
          },
          "metadata": {},
          "execution_count": 47
        }
      ]
    },
    {
      "cell_type": "code",
      "metadata": {
        "colab": {
          "base_uri": "https://localhost:8080/"
        },
        "id": "4TOO8LKzmf5O",
        "outputId": "73c97701-f9e3-4ae0-f23c-2095efd67f23"
      },
      "source": [
        "list+[235]"
      ],
      "execution_count": null,
      "outputs": [
        {
          "output_type": "execute_result",
          "data": {
            "text/plain": [
              "['one', 'ox', 'ok', 235]"
            ]
          },
          "metadata": {},
          "execution_count": 48
        }
      ]
    },
    {
      "cell_type": "code",
      "metadata": {
        "colab": {
          "base_uri": "https://localhost:8080/"
        },
        "id": "yxnRCIXamnnY",
        "outputId": "69e0b921-b065-4f0e-c6cd-ad1a1f0d0078"
      },
      "source": [
        "list*2"
      ],
      "execution_count": null,
      "outputs": [
        {
          "output_type": "execute_result",
          "data": {
            "text/plain": [
              "['one', 'ox', 'ok', 'one', 'ox', 'ok']"
            ]
          },
          "metadata": {},
          "execution_count": 49
        }
      ]
    },
    {
      "cell_type": "markdown",
      "metadata": {
        "id": "O9lVxuCUmtRf"
      },
      "source": [
        "#Basic List Methods"
      ]
    },
    {
      "cell_type": "code",
      "metadata": {
        "colab": {
          "base_uri": "https://localhost:8080/"
        },
        "id": "eGJ74rUMm0Y0",
        "outputId": "68399f8d-5f34-40b5-ef2a-8f662f160a8d"
      },
      "source": [
        "list=[4,0,1,3]\n",
        "list.append(\"new\")\n",
        "list"
      ],
      "execution_count": null,
      "outputs": [
        {
          "output_type": "execute_result",
          "data": {
            "text/plain": [
              "[4, 0, 1, 3, 'new']"
            ]
          },
          "metadata": {},
          "execution_count": 50
        }
      ]
    },
    {
      "cell_type": "code",
      "metadata": {
        "colab": {
          "base_uri": "https://localhost:8080/"
        },
        "id": "e4hfJuconDBP",
        "outputId": "4b94ed93-63e3-40b0-e1f7-9f790ce37376"
      },
      "source": [
        "list.pop(0)"
      ],
      "execution_count": null,
      "outputs": [
        {
          "output_type": "execute_result",
          "data": {
            "text/plain": [
              "4"
            ]
          },
          "metadata": {},
          "execution_count": 51
        }
      ]
    },
    {
      "cell_type": "code",
      "metadata": {
        "colab": {
          "base_uri": "https://localhost:8080/"
        },
        "id": "6yo81fmcnNFR",
        "outputId": "1e5bfb27-257f-4350-e040-53bf31c5a6f9"
      },
      "source": [
        "list"
      ],
      "execution_count": null,
      "outputs": [
        {
          "output_type": "execute_result",
          "data": {
            "text/plain": [
              "[0, 1, 3, 'new']"
            ]
          },
          "metadata": {},
          "execution_count": 52
        }
      ]
    },
    {
      "cell_type": "code",
      "metadata": {
        "colab": {
          "base_uri": "https://localhost:8080/"
        },
        "id": "Htw2iWVinX0x",
        "outputId": "bd9b312b-9664-49ca-d254-9aae5e19b921"
      },
      "source": [
        "list.reverse()\n",
        "list"
      ],
      "execution_count": null,
      "outputs": [
        {
          "output_type": "execute_result",
          "data": {
            "text/plain": [
              "['new', 3, 1, 0]"
            ]
          },
          "metadata": {},
          "execution_count": 53
        }
      ]
    },
    {
      "cell_type": "markdown",
      "metadata": {
        "id": "03WuNZSQnnM_"
      },
      "source": [
        "#Nesting list"
      ]
    },
    {
      "cell_type": "code",
      "metadata": {
        "colab": {
          "base_uri": "https://localhost:8080/"
        },
        "id": "sYyjcC3BnsOb",
        "outputId": "109bfe2f-a1f7-424a-f283-ca3258662e32"
      },
      "source": [
        "lst_1=[1,2,3]\n",
        "lst_2=[4,5,6]\n",
        "lst_3=[7,8,9]\n",
        "matrix=[lst_1,lst_2,lst_3]\n",
        "matrix"
      ],
      "execution_count": null,
      "outputs": [
        {
          "output_type": "execute_result",
          "data": {
            "text/plain": [
              "[[1, 2, 3], [4, 5, 6], [7, 8, 9]]"
            ]
          },
          "metadata": {},
          "execution_count": 55
        }
      ]
    },
    {
      "cell_type": "code",
      "metadata": {
        "colab": {
          "base_uri": "https://localhost:8080/"
        },
        "id": "JEY8HWTGobbh",
        "outputId": "53b5435d-85ec-4a00-9ccb-5249aec12e46"
      },
      "source": [
        "matrix[1]"
      ],
      "execution_count": null,
      "outputs": [
        {
          "output_type": "execute_result",
          "data": {
            "text/plain": [
              "[4, 5, 6]"
            ]
          },
          "metadata": {},
          "execution_count": 56
        }
      ]
    },
    {
      "cell_type": "code",
      "metadata": {
        "colab": {
          "base_uri": "https://localhost:8080/"
        },
        "id": "RAKDiC4wohel",
        "outputId": "88bcc97d-9983-4146-fbd0-60ead1665f81"
      },
      "source": [
        "matrix[0][1]"
      ],
      "execution_count": null,
      "outputs": [
        {
          "output_type": "execute_result",
          "data": {
            "text/plain": [
              "2"
            ]
          },
          "metadata": {},
          "execution_count": 57
        }
      ]
    },
    {
      "cell_type": "markdown",
      "metadata": {
        "id": "Xw-RRnNuoyBe"
      },
      "source": [
        "#Program to print the largestof the three numbers."
      ]
    },
    {
      "cell_type": "code",
      "metadata": {
        "colab": {
          "base_uri": "https://localhost:8080/"
        },
        "id": "MrFF7D4No8XU",
        "outputId": "add0d145-0029-42a8-878c-7e0767873df3"
      },
      "source": [
        "a=int(input(\"enter a:\"));\n",
        "b=int(input(\"enter b:\"));\n",
        "c=int(input(\"enter c:\"));\n",
        "if a>b and a>c:\n",
        "  print(\"a is largest\");\n",
        "if b>a and b>c:\n",
        "  print(\"b is largest\");\n",
        "if c>a and c>b:\n",
        "  print(\"c is largest\");    "
      ],
      "execution_count": null,
      "outputs": [
        {
          "output_type": "stream",
          "name": "stdout",
          "text": [
            "enter a:5\n",
            "enter b:6\n",
            "enter c:8\n",
            "c is largest\n"
          ]
        }
      ]
    },
    {
      "cell_type": "markdown",
      "metadata": {
        "id": "TC9rL2exrL1x"
      },
      "source": [
        "#Create a program that asks the user to enter their name and their age.Print out message addressed to them that tells them the year that they will turn 100 years old. "
      ]
    },
    {
      "cell_type": "code",
      "metadata": {
        "colab": {
          "base_uri": "https://localhost:8080/"
        },
        "id": "ScMHmxaxr6H4",
        "outputId": "c1f1ba4e-2a74-4e45-a0dd-20d45d84d1c3"
      },
      "source": [
        "#import datetime\n",
        "import datetime\n",
        "#asking name\n",
        "name=input('Type your name:')\n",
        "#asking age\n",
        "age=input('type your age:')\n",
        "#get the current year \n",
        "now=datetime.datetime.now()\n",
        "#get difference between age x 100 years \n",
        "diff=100-int(age)\n",
        "#show exactly year that user will turn 100 years old\n",
        "print('Hi'+name+\"you will complete 100 years in \",(now.year+diff))"
      ],
      "execution_count": null,
      "outputs": [
        {
          "output_type": "stream",
          "name": "stdout",
          "text": [
            "Type your name:kajal\n",
            "type your age:67\n",
            "Hikajalyou will complete 100 years in  2054\n"
          ]
        }
      ]
    },
    {
      "cell_type": "markdown",
      "metadata": {
        "id": "9ad2_V5XuubK"
      },
      "source": [
        "#Ask the user for a number.Depending on whether the number is even or odd,print out an appropriarte message to the user."
      ]
    },
    {
      "cell_type": "code",
      "metadata": {
        "colab": {
          "base_uri": "https://localhost:8080/"
        },
        "id": "mzhh2NT4vNSf",
        "outputId": "089cd2d6-8c82-490e-fc39-de58b73a2d0f"
      },
      "source": [
        "number = int(input(\"number:\"))\n",
        "if number%2==0 and number%4!=0:\n",
        "  print(\"your number is even\")\n",
        "elif number%4==0:\n",
        "  print( \"your number is a multiple of 4\")\n",
        "else:\n",
        "  print(\"your number is odd\")"
      ],
      "execution_count": null,
      "outputs": [
        {
          "output_type": "stream",
          "name": "stdout",
          "text": [
            "number:5\n",
            "your number is odd\n"
          ]
        }
      ]
    },
    {
      "cell_type": "code",
      "metadata": {
        "colab": {
          "base_uri": "https://localhost:8080/"
        },
        "id": "4dxbdtUAVbbl",
        "outputId": "987073ab-06d5-483a-ca44-fce4dce34af0"
      },
      "source": [
        "#Create a program that asks the user to enter their name and their age.\n",
        "#Print out a message addressed to them that tells them the year that they will trun 100 years old.\n",
        "name=input(\"what is your name:\")\n",
        "age=int(input(\"how old are you:\"))\n",
        "year=str((2014-age)+100)\n",
        "print(name+\"will be 100 years old in the year \"+year)"
      ],
      "execution_count": null,
      "outputs": [
        {
          "output_type": "stream",
          "name": "stdout",
          "text": [
            "what is your name:kajal\n",
            "how old are you:21\n",
            "kajalwill be 100 years old in the year 2093\n"
          ]
        }
      ]
    }
  ]
}