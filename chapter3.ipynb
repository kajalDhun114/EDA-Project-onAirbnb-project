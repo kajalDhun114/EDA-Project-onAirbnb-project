{
  "nbformat": 4,
  "nbformat_minor": 0,
  "metadata": {
    "colab": {
      "name": "chapter3.ipynb",
      "provenance": [],
      "collapsed_sections": [],
      "authorship_tag": "ABX9TyPyoYGoa1fO2NtK3cSq4Jft",
      "include_colab_link": true
    },
    "kernelspec": {
      "name": "python3",
      "display_name": "Python 3"
    },
    "language_info": {
      "name": "python"
    }
  },
  "cells": [
    {
      "cell_type": "markdown",
      "metadata": {
        "id": "view-in-github",
        "colab_type": "text"
      },
      "source": [
        "<a href=\"https://colab.research.google.com/github/kajalDhun114/EDA-Project-onAirbnb-project/blob/main/chapter3.ipynb\" target=\"_parent\"><img src=\"https://colab.research.google.com/assets/colab-badge.svg\" alt=\"Open In Colab\"/></a>"
      ]
    },
    {
      "cell_type": "code",
      "metadata": {
        "id": "3cpuqHYowQdR"
      },
      "source": [
        "#DECISION CONTROL STATEMENTS"
      ],
      "execution_count": null,
      "outputs": []
    },
    {
      "cell_type": "code",
      "metadata": {
        "colab": {
          "base_uri": "https://localhost:8080/"
        },
        "id": "3xkzgX67wb7v",
        "outputId": "6c4ddcec-a9dd-46b7-83e7-20ace2c7517a"
      },
      "source": [
        "#what will be output of the following programs?\n",
        "x=10\n",
        "if x>10:\n",
        "    x=x*5\n",
        "    y=x-10\n",
        "print(x,y)    "
      ],
      "execution_count": null,
      "outputs": [
        {
          "output_type": "stream",
          "name": "stdout",
          "text": [
            "10 True\n"
          ]
        }
      ]
    },
    {
      "cell_type": "code",
      "metadata": {
        "colab": {
          "base_uri": "https://localhost:8080/"
        },
        "id": "gqrlaMNiw0NT",
        "outputId": "4073de9a-182f-4bba-c244-64584218d5d6"
      },
      "source": [
        "x=10\n",
        "if x>=10:\n",
        "     x=x*5\n",
        "     y=x-10\n",
        "print(x,y)     "
      ],
      "execution_count": null,
      "outputs": [
        {
          "output_type": "stream",
          "name": "stdout",
          "text": [
            "50 40\n"
          ]
        }
      ]
    },
    {
      "cell_type": "code",
      "metadata": {
        "colab": {
          "base_uri": "https://localhost:8080/"
        },
        "id": "RXdeGbEmzCzN",
        "outputId": "f99fc562-b5cc-454e-e29f-768387f693f9"
      },
      "source": [
        "value=1000\n",
        "if value<10000:\n",
        "      value-=50\n",
        "print(value)      "
      ],
      "execution_count": null,
      "outputs": [
        {
          "output_type": "stream",
          "name": "stdout",
          "text": [
            "950\n"
          ]
        }
      ]
    },
    {
      "cell_type": "code",
      "metadata": {
        "colab": {
          "base_uri": "https://localhost:8080/"
        },
        "id": "fZP-rQBHzbkc",
        "outputId": "d03baebc-a7c5-4493-b396-fb90ca508f84"
      },
      "source": [
        "x=10\n",
        "if x>10:\n",
        "    x*=5\n",
        "    y=x-10\n",
        "    if x>20:\n",
        "         x*=2\n",
        "         y=x+10\n",
        "print(x,y)         "
      ],
      "execution_count": null,
      "outputs": [
        {
          "output_type": "stream",
          "name": "stdout",
          "text": [
            "10 40\n"
          ]
        }
      ]
    },
    {
      "cell_type": "code",
      "metadata": {
        "colab": {
          "base_uri": "https://localhost:8080/"
        },
        "id": "bEigN-Lc03lO",
        "outputId": "bc52ca74-fdb7-449d-d340-74dd0e956496"
      },
      "source": [
        "x=10\n",
        "if x>=10:\n",
        "      x*=5\n",
        "      y=x-10\n",
        "      if x<20:\n",
        "           x*=2\n",
        "           y=x+10\n",
        "print(x,y)           \n",
        "            "
      ],
      "execution_count": null,
      "outputs": [
        {
          "output_type": "stream",
          "name": "stdout",
          "text": [
            "50 40\n"
          ]
        }
      ]
    },
    {
      "cell_type": "code",
      "metadata": {
        "colab": {
          "base_uri": "https://localhost:8080/"
        },
        "id": "hFHFUn0X1knx",
        "outputId": "4bf9a350-fff3-464a-d2d7-767d77837e2c"
      },
      "source": [
        "x=10\n",
        "if x>=10:\n",
        "      x*=5\n",
        "      y=x-10\n",
        "      if x>20:\n",
        "            x*=2\n",
        "            y=x+10\n",
        "print(x,y)            "
      ],
      "execution_count": null,
      "outputs": [
        {
          "output_type": "stream",
          "name": "stdout",
          "text": [
            "100 110\n"
          ]
        }
      ]
    },
    {
      "cell_type": "code",
      "metadata": {
        "colab": {
          "base_uri": "https://localhost:8080/"
        },
        "id": "gaLIrqXM2vgL",
        "outputId": "77bc39cb-0b54-4d6c-83f5-66a089a89f5f"
      },
      "source": [
        "v=300\n",
        "if v%3==0:\n",
        "     print(v,'is divisible by 3')\n",
        "else:\n",
        "     print(v,'is not divisible by 3')      "
      ],
      "execution_count": null,
      "outputs": [
        {
          "output_type": "stream",
          "name": "stdout",
          "text": [
            "300 is divisible by 3\n"
          ]
        }
      ]
    },
    {
      "cell_type": "code",
      "metadata": {
        "colab": {
          "base_uri": "https://localhost:8080/"
        },
        "id": "FItV7h0_3U9N",
        "outputId": "46c672b4-45ed-4c83-a993-0a3ba1f498f5"
      },
      "source": [
        "x=int(input('enter an integer number:'))\n",
        "if x>0:\n",
        "      print(x,'is a positive number')\n",
        "elif x<0:\n",
        "      print(x,'is a negative number') \n",
        "else:\n",
        "      print('x is zero')   "
      ],
      "execution_count": null,
      "outputs": [
        {
          "output_type": "stream",
          "name": "stdout",
          "text": [
            "enter an integer number:45\n",
            "45 is a positive number\n"
          ]
        }
      ]
    },
    {
      "cell_type": "code",
      "metadata": {
        "colab": {
          "base_uri": "https://localhost:8080/"
        },
        "id": "ek2UvIog4O0N",
        "outputId": "263c4a06-0315-45b5-b0db-fa0065a51a22"
      },
      "source": [
        "x=int(input('entera number between 1-7:'))\n",
        "if x==7:\n",
        "      print('sunday')\n",
        "elif x==6:\n",
        "      print('monday') \n",
        "elif x==5:\n",
        "      print('tuesday') \n",
        "elif x==4:\n",
        "      print('wednesday')\n",
        "elif x==3:\n",
        "      print('thursday') \n",
        "elif x==2:\n",
        "      print('friday')\n",
        "elif x==1:\n",
        "      prin('saturday')\n",
        "else:\n",
        "      print('invalid entry')                       "
      ],
      "execution_count": null,
      "outputs": [
        {
          "output_type": "stream",
          "name": "stdout",
          "text": [
            "entera number between 1-7:4\n",
            "wednesday\n"
          ]
        }
      ]
    },
    {
      "cell_type": "code",
      "metadata": {
        "colab": {
          "base_uri": "https://localhost:8080/"
        },
        "id": "id1zDraS-lRZ",
        "outputId": "97f1c6b1-cfca-447a-c9c3-17005fb1abd7"
      },
      "source": [
        "v1=-10\n",
        "if v1:\n",
        "     print(\"1-Got a true value\",v1)\n",
        "else:\n",
        "     print(\"1-Got a false value\",v1)\n",
        "v2=0\n",
        "if v2:\n",
        "     print(\"2-Got a true value\",v2) \n",
        "else:\n",
        "     print(\"2-Got a true value\",v2)\n",
        "v3=1000\n",
        "if v3:\n",
        "     print(\"3-Got a true value\",v3)\n",
        "else:\n",
        "     print(\"3-Got a false value\",v3) \n",
        "                   "
      ],
      "execution_count": null,
      "outputs": [
        {
          "output_type": "stream",
          "name": "stdout",
          "text": [
            "1-Got a true value -10\n",
            "2-Got a true value 0\n",
            "3-Got a true value 1000\n"
          ]
        }
      ]
    },
    {
      "cell_type": "markdown",
      "metadata": {
        "id": "dETtyPByAtdj"
      },
      "source": [
        ""
      ]
    },
    {
      "cell_type": "code",
      "metadata": {
        "colab": {
          "base_uri": "https://localhost:8080/"
        },
        "id": "qTxCKZrtAPE-",
        "outputId": "3e5415a9-3583-4c10-dde1-048ca0e3bfd6"
      },
      "source": [
        "print(\"Input lengths of the triangle sides:\")\n",
        "x=int(input(\"x:\"))\n",
        "y=int(input(\"y:\"))\n",
        "z=int(input(\"z:\"))\n",
        "\n",
        "if x==y==z:\n",
        "     print(\"Equilateral triangle\")\n",
        "elif x!=y!=z:\n",
        "      print(\"Scalene triangle\")     \n",
        "else:\n",
        "     print(\"Isosceles\")   "
      ],
      "execution_count": null,
      "outputs": [
        {
          "output_type": "stream",
          "name": "stdout",
          "text": [
            "Input lengths of the triangle sides:\n",
            "x:65\n",
            "y:85\n",
            "z:90\n",
            "Scalene triangle\n"
          ]
        }
      ]
    },
    {
      "cell_type": "code",
      "metadata": {
        "colab": {
          "base_uri": "https://localhost:8080/"
        },
        "id": "mcc_bEh4Bqu7",
        "outputId": "1675a916-f51f-4d67-b495-9beafdda0087"
      },
      "source": [
        "a=float(input(\"Input the length of side1:\"))\n",
        "b=float(input(\"Input the length of side2:\"))\n",
        "c=float(input(\"Input the length of side3:\"))\n",
        "\n",
        "if (a<(b+c)) and (b<(a+c)) and (c<(a+b)):\n",
        "     print(\"The triangle is valid:\")\n",
        "else: \n",
        "     print(\"The triangle is invalid:\")    \n"
      ],
      "execution_count": null,
      "outputs": [
        {
          "output_type": "stream",
          "name": "stdout",
          "text": [
            "Input the length of side1:45\n",
            "Input the length of side2:65\n",
            "Input the length of side3:90\n",
            "The triangle is valid:\n"
          ]
        }
      ]
    },
    {
      "cell_type": "code",
      "metadata": {
        "colab": {
          "base_uri": "https://localhost:8080/"
        },
        "id": "BroaLr5NT-kV",
        "outputId": "ae2be00b-0b8f-4d51-9219-1562049f29b5"
      },
      "source": [
        "X=True\n",
        "y=True\n",
        "z=False\n",
        "if not x or y:\n",
        "    print(1) \n",
        "elif not x or (not y and z):\n",
        "    print(2)\n",
        "elif (not x or y)or(y and x):\n",
        "    print(3)\n",
        "else:\n",
        "    print(4)          "
      ],
      "execution_count": null,
      "outputs": [
        {
          "output_type": "stream",
          "name": "stdout",
          "text": [
            "1\n"
          ]
        }
      ]
    },
    {
      "cell_type": "code",
      "metadata": {
        "colab": {
          "base_uri": "https://localhost:8080/"
        },
        "id": "QOySZVpcWNmV",
        "outputId": "866c7541-2a0c-477a-9271-dcaac767259c"
      },
      "source": [
        "X=True\n",
        "y=False\n",
        "z=True\n",
        "if not x or y:\n",
        "    print(1) \n",
        "elif not x or (not y and z):\n",
        "    print(2)\n",
        "elif (not x or y)or(y and x):\n",
        "    print(3)\n",
        "else:\n",
        "    print(4)"
      ],
      "execution_count": null,
      "outputs": [
        {
          "output_type": "stream",
          "name": "stdout",
          "text": [
            "2\n"
          ]
        }
      ]
    },
    {
      "cell_type": "code",
      "metadata": {
        "colab": {
          "base_uri": "https://localhost:8080/"
        },
        "id": "MaSvJX8SWJ9O",
        "outputId": "9fce4378-f343-49d5-a35b-ed860c26dd43"
      },
      "source": [
        "X=False\n",
        "y=False\n",
        "z=False\n",
        "if not x or y:\n",
        "    print(1) \n",
        "elif not x or (not y and z):\n",
        "    print(2)\n",
        "elif (not x or y)or(y and x):\n",
        "    print(3)\n",
        "else:\n",
        "    print(4)"
      ],
      "execution_count": null,
      "outputs": [
        {
          "output_type": "stream",
          "name": "stdout",
          "text": [
            "4\n"
          ]
        }
      ]
    }
  ]
}