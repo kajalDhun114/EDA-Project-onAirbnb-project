{
  "nbformat": 4,
  "nbformat_minor": 0,
  "metadata": {
    "colab": {
      "name": "practise 1 python.ipynb",
      "provenance": [],
      "authorship_tag": "ABX9TyMuH8zx+khlrIPcVNcYPpCy",
      "include_colab_link": true
    },
    "kernelspec": {
      "name": "python3",
      "display_name": "Python 3"
    },
    "language_info": {
      "name": "python"
    }
  },
  "cells": [
    {
      "cell_type": "markdown",
      "metadata": {
        "id": "view-in-github",
        "colab_type": "text"
      },
      "source": [
        "<a href=\"https://colab.research.google.com/github/kajalDhun114/EDA-Project-onAirbnb-project/blob/main/practise_1_python.ipynb\" target=\"_parent\"><img src=\"https://colab.research.google.com/assets/colab-badge.svg\" alt=\"Open In Colab\"/></a>"
      ]
    },
    {
      "cell_type": "markdown",
      "metadata": {
        "id": "ekCr_OdzJ5XG"
      },
      "source": [
        "##INPUT AND OUTPUT"
      ]
    },
    {
      "cell_type": "code",
      "metadata": {
        "colab": {
          "base_uri": "https://localhost:8080/"
        },
        "id": "XD0oe6f6J8nQ",
        "outputId": "d0de69f4-dc0a-4626-cef0-2a2fcd241f5b"
      },
      "source": [
        "print(\"THANK YOU GOD\")"
      ],
      "execution_count": 1,
      "outputs": [
        {
          "output_type": "stream",
          "name": "stdout",
          "text": [
            "THANK YOU GOD\n"
          ]
        }
      ]
    },
    {
      "cell_type": "code",
      "metadata": {
        "colab": {
          "base_uri": "https://localhost:8080/"
        },
        "id": "PXCUwGf9KTWr",
        "outputId": "302bf39e-3e09-4cde-fb9f-63ceb5cd651c"
      },
      "source": [
        "\n",
        "x=\"pinky\"\n",
        "print(\"believe youself\",x)\n",
        "print(x + \" pinku\")"
      ],
      "execution_count": 2,
      "outputs": [
        {
          "output_type": "stream",
          "name": "stdout",
          "text": [
            "believe youself pinky\n",
            "pinky pinku\n"
          ]
        }
      ]
    },
    {
      "cell_type": "code",
      "metadata": {
        "colab": {
          "base_uri": "https://localhost:8080/"
        },
        "id": "ME25KzhxKYmF",
        "outputId": "3dc036e5-80b9-4aef-fcf5-78a97f4f93c5"
      },
      "source": [
        "print(\"3 raised to power 4=\",3**4)\n"
      ],
      "execution_count": 3,
      "outputs": [
        {
          "output_type": "stream",
          "name": "stdout",
          "text": [
            "3 raised to power 4= 81\n"
          ]
        }
      ]
    },
    {
      "cell_type": "code",
      "metadata": {
        "colab": {
          "base_uri": "https://localhost:8080/"
        },
        "id": "26hR6IBUKd7P",
        "outputId": "0931a1af-d2b5-4845-d731-e75ac0a5884a"
      },
      "source": [
        "m=10\n",
        "n=20\n",
        "print(m ,\"+\" ,n ,\"=\" ,m+n)"
      ],
      "execution_count": 4,
      "outputs": [
        {
          "output_type": "stream",
          "name": "stdout",
          "text": [
            "10 + 20 = 30\n"
          ]
        }
      ]
    },
    {
      "cell_type": "code",
      "metadata": {
        "colab": {
          "base_uri": "https://localhost:8080/"
        },
        "id": "9HfdnmlfKjgo",
        "outputId": "78741d9a-b5c4-4852-b9e4-d74acde27fc4"
      },
      "source": [
        "print(2+4,6/3,90*8)"
      ],
      "execution_count": 5,
      "outputs": [
        {
          "output_type": "stream",
          "name": "stdout",
          "text": [
            "6 2.0 720\n"
          ]
        }
      ]
    },
    {
      "cell_type": "code",
      "metadata": {
        "colab": {
          "base_uri": "https://localhost:8080/",
          "height": 52
        },
        "id": "7CvgNC04KpGI",
        "outputId": "de2a3b64-9a31-4176-cb77-d3086b3a0e65"
      },
      "source": [
        "x=input()\n",
        "x"
      ],
      "execution_count": 6,
      "outputs": [
        {
          "name": "stdout",
          "output_type": "stream",
          "text": [
            "66\n"
          ]
        },
        {
          "output_type": "execute_result",
          "data": {
            "application/vnd.google.colaboratory.intrinsic+json": {
              "type": "string"
            },
            "text/plain": [
              "'66'"
            ]
          },
          "metadata": {},
          "execution_count": 6
        }
      ]
    },
    {
      "cell_type": "code",
      "metadata": {
        "colab": {
          "base_uri": "https://localhost:8080/"
        },
        "id": "REfOrEBsKxjL",
        "outputId": "3263e343-9d07-4fb9-cf1b-0bbce1882fde"
      },
      "source": [
        "print(x)"
      ],
      "execution_count": 7,
      "outputs": [
        {
          "output_type": "stream",
          "name": "stdout",
          "text": [
            "66\n"
          ]
        }
      ]
    },
    {
      "cell_type": "code",
      "metadata": {
        "colab": {
          "base_uri": "https://localhost:8080/"
        },
        "id": "jSM0cUp9K2iH",
        "outputId": "eb50840f-09b7-4e62-8489-e80fc1b39340"
      },
      "source": [
        "x1=int(input('enter an integer number'))\n",
        "x1"
      ],
      "execution_count": 8,
      "outputs": [
        {
          "name": "stdout",
          "output_type": "stream",
          "text": [
            "enter an integer number77\n"
          ]
        },
        {
          "output_type": "execute_result",
          "data": {
            "text/plain": [
              "77"
            ]
          },
          "metadata": {},
          "execution_count": 8
        }
      ]
    },
    {
      "cell_type": "code",
      "metadata": {
        "colab": {
          "base_uri": "https://localhost:8080/"
        },
        "id": "xJqL3-6KK81g",
        "outputId": "ec46de3a-4317-4d7b-8e63-c61992ce3cff"
      },
      "source": [
        "x=input()\n",
        "x1=int(input(\"enter a value\"))\n",
        "print(x1+1)"
      ],
      "execution_count": 9,
      "outputs": [
        {
          "output_type": "stream",
          "name": "stdout",
          "text": [
            "35\n",
            "enter a value456\n",
            "457\n"
          ]
        }
      ]
    },
    {
      "cell_type": "code",
      "metadata": {
        "colab": {
          "base_uri": "https://localhost:8080/"
        },
        "id": "bb2dCRyiLEfY",
        "outputId": "77efd80c-016d-4c73-ed59-932d91f88800"
      },
      "source": [
        "val=int(input(\"enter a value\"))"
      ],
      "execution_count": 10,
      "outputs": [
        {
          "name": "stdout",
          "output_type": "stream",
          "text": [
            "enter a value576\n"
          ]
        }
      ]
    },
    {
      "cell_type": "code",
      "metadata": {
        "colab": {
          "base_uri": "https://localhost:8080/"
        },
        "id": "bgenDONSLKu5",
        "outputId": "09563f98-744d-4eea-bf46-3687ae1e9a4c"
      },
      "source": [
        "y=float(input(\"enter value\"))"
      ],
      "execution_count": 11,
      "outputs": [
        {
          "name": "stdout",
          "output_type": "stream",
          "text": [
            "enter value46\n"
          ]
        }
      ]
    },
    {
      "cell_type": "code",
      "metadata": {
        "colab": {
          "base_uri": "https://localhost:8080/"
        },
        "id": "vArWnxU6LXUg",
        "outputId": "f86536ac-18d1-4420-8e2b-6366af386691"
      },
      "source": [
        "import string\n",
        "for i in range(5):\n",
        "  print(repr(i).rjust(5))\n",
        "\n",
        "#repr=itis an builtin function which is used to return the string representation of the value passed to eval function by default\n",
        "#(eval function = mostly used in situations or application which need to evaluate math expression)\n",
        "#rjust=(it is a built in function which returns a new string of given length after substituting a give character in left side of original string)\n",
        "#syntax ====string.rjust(length,fillchar)"
      ],
      "execution_count": 12,
      "outputs": [
        {
          "output_type": "stream",
          "name": "stdout",
          "text": [
            "    0\n",
            "    1\n",
            "    2\n",
            "    3\n",
            "    4\n"
          ]
        }
      ]
    },
    {
      "cell_type": "code",
      "metadata": {
        "colab": {
          "base_uri": "https://localhost:8080/"
        },
        "id": "vegU48PRLZZy",
        "outputId": "7f9f863a-2f82-427b-aa80-17980c781e81"
      },
      "source": [
        "string=\"greeks\"\n",
        "length=10\n",
        "fillchar='*'\n",
        "print(string.rjust(length))\n",
        "print(string.rjust(length,fillchar))"
      ],
      "execution_count": 13,
      "outputs": [
        {
          "output_type": "stream",
          "name": "stdout",
          "text": [
            "    greeks\n",
            "****greeks\n"
          ]
        }
      ]
    },
    {
      "cell_type": "code",
      "metadata": {
        "colab": {
          "base_uri": "https://localhost:8080/"
        },
        "id": "gx9HTwTGLkeq",
        "outputId": "59779903-f480-48f6-8700-9c6c52357f08"
      },
      "source": [
        "string=\"greeks\"\n",
        "length=10\n",
        "fillchar='*'\n",
        "print(string.ljust(length))\n",
        "print(string.ljust(length,fillchar))"
      ],
      "execution_count": 14,
      "outputs": [
        {
          "output_type": "stream",
          "name": "stdout",
          "text": [
            "greeks    \n",
            "greeks****\n"
          ]
        }
      ]
    },
    {
      "cell_type": "code",
      "metadata": {
        "colab": {
          "base_uri": "https://localhost:8080/"
        },
        "id": "pLwHLypdLnb9",
        "outputId": "18356684-3cee-4d2a-ec2a-0c77e878d98a"
      },
      "source": [
        "for i in range(6):\n",
        "  print(repr(0).rjust(6))\n",
        "  print(repr(3).rjust(6))"
      ],
      "execution_count": 15,
      "outputs": [
        {
          "output_type": "stream",
          "name": "stdout",
          "text": [
            "     0\n",
            "     3\n",
            "     0\n",
            "     3\n",
            "     0\n",
            "     3\n",
            "     0\n",
            "     3\n",
            "     0\n",
            "     3\n",
            "     0\n",
            "     3\n"
          ]
        }
      ]
    },
    {
      "cell_type": "code",
      "metadata": {
        "colab": {
          "base_uri": "https://localhost:8080/"
        },
        "id": "o82OMtryLwAb",
        "outputId": "aa7e4f37-47ba-4242-e674-d84a40f45689"
      },
      "source": [
        "print(repr(23.3))"
      ],
      "execution_count": 16,
      "outputs": [
        {
          "output_type": "stream",
          "name": "stdout",
          "text": [
            "23.3\n"
          ]
        }
      ]
    },
    {
      "cell_type": "code",
      "metadata": {
        "colab": {
          "base_uri": "https://localhost:8080/",
          "height": 35
        },
        "id": "0_LLNLenLx_K",
        "outputId": "1dc8cdc0-5fe1-4e38-c742-e2e4dc9e0bb9"
      },
      "source": [
        "\"12\".zfill(5)\n",
        "#zfill() method adds zeros at the beginning of the string ,untill it reaches the specified length\n",
        "#syntax====string.zfill(len)"
      ],
      "execution_count": 17,
      "outputs": [
        {
          "output_type": "execute_result",
          "data": {
            "application/vnd.google.colaboratory.intrinsic+json": {
              "type": "string"
            },
            "text/plain": [
              "'00012'"
            ]
          },
          "metadata": {},
          "execution_count": 17
        }
      ]
    },
    {
      "cell_type": "code",
      "metadata": {
        "colab": {
          "base_uri": "https://localhost:8080/"
        },
        "id": "r-BgFgqGL5fO",
        "outputId": "6ead23c8-4706-473e-97a6-ae702d917d0c"
      },
      "source": [
        "print(('{0:.3f}'.format(5.7416)))\n",
        "#print(('{4:.3f}'.format(10.7416))) #index should start from 0\n",
        "print(('{0:.6f}'.format(5.7416)))\n",
        "print(('{0:.4f}'.format(5.7416)))\n",
        "\n",
        "#it print a decimal number ,with 3 decimal digit accuracy here f is floating point..if digits are less then 0 will be added at last"
      ],
      "execution_count": 18,
      "outputs": [
        {
          "output_type": "stream",
          "name": "stdout",
          "text": [
            "5.742\n",
            "5.741600\n",
            "5.7416\n"
          ]
        }
      ]
    },
    {
      "cell_type": "code",
      "metadata": {
        "colab": {
          "base_uri": "https://localhost:8080/"
        },
        "id": "Ig83joB-MF2t",
        "outputId": "49927dd9-779f-4afa-f3cb-7180895f29e1"
      },
      "source": [
        "for x in ['sunny','monty']:\n",
        "  print('hi\"{}!\"'.format(x))"
      ],
      "execution_count": 19,
      "outputs": [
        {
          "output_type": "stream",
          "name": "stdout",
          "text": [
            "hi\"sunny!\"\n",
            "hi\"monty!\"\n"
          ]
        }
      ]
    },
    {
      "cell_type": "code",
      "metadata": {
        "colab": {
          "base_uri": "https://localhost:8080/"
        },
        "id": "UNrBiVEtMLtw",
        "outputId": "1fa2ddf8-afe6-4187-ab8b-e24fd49acaf9"
      },
      "source": [
        "for x in ['sunny','monty']:\n",
        "  print('hi\"{}!\"'.format(2))\n"
      ],
      "execution_count": 21,
      "outputs": [
        {
          "output_type": "stream",
          "name": "stdout",
          "text": [
            "hi\"2!\"\n",
            "hi\"2!\"\n"
          ]
        }
      ]
    },
    {
      "cell_type": "code",
      "metadata": {
        "colab": {
          "base_uri": "https://localhost:8080/"
        },
        "id": "tZhh0OhsMTyO",
        "outputId": "5c13e907-d1ef-4c00-d36a-ff8963e74c94"
      },
      "source": [
        "print(('{0:3d},{2:6.1f},{1:4d}'.format(1,2,3.0)))"
      ],
      "execution_count": 22,
      "outputs": [
        {
          "output_type": "stream",
          "name": "stdout",
          "text": [
            "  1,   3.0,   2\n"
          ]
        }
      ]
    },
    {
      "cell_type": "code",
      "metadata": {
        "colab": {
          "base_uri": "https://localhost:8080/"
        },
        "id": "PuA4ab4eMbFa",
        "outputId": "445fd450-6707-49a2-a436-52c8522a3bef"
      },
      "source": [
        "count={'Unit':1,'tenth':10,'hundred':100}\n",
        "for place,value in count.items():\n",
        "  print(('{0:10}==>{1:10d}'.format(place,value)))"
      ],
      "execution_count": 23,
      "outputs": [
        {
          "output_type": "stream",
          "name": "stdout",
          "text": [
            "Unit      ==>         1\n",
            "tenth     ==>        10\n",
            "hundred   ==>       100\n"
          ]
        }
      ]
    },
    {
      "cell_type": "code",
      "metadata": {
        "colab": {
          "base_uri": "https://localhost:8080/"
        },
        "id": "dN4xEGwlMnR1",
        "outputId": "05bed8a2-0e07-4812-cff8-54e04a3d7087"
      },
      "source": [
        "#ask for users first name and display the output message\n",
        "first_name=input(\"enter first name:\")\n",
        "print(\"hello\",first_name)"
      ],
      "execution_count": 24,
      "outputs": [
        {
          "output_type": "stream",
          "name": "stdout",
          "text": [
            "enter first name:yufthgckdc,tu\n",
            "hello yufthgckdc,tu\n"
          ]
        }
      ]
    },
    {
      "cell_type": "code",
      "metadata": {
        "colab": {
          "base_uri": "https://localhost:8080/"
        },
        "id": "16UExKsSMxun",
        "outputId": "b0285d48-087d-460c-dca0-a109d64b3ff5"
      },
      "source": [
        "num1=int(input(\"enter first team:\"))\n",
        "num2=int(input(\"enter second team:\"))\n",
        "ans=num1+num2\n",
        "print(\"the answer is\",ans)"
      ],
      "execution_count": 27,
      "outputs": [
        {
          "output_type": "stream",
          "name": "stdout",
          "text": [
            "enter first team:65\n",
            "enter second team:557\n",
            "the answer is 622\n"
          ]
        }
      ]
    }
  ]
}